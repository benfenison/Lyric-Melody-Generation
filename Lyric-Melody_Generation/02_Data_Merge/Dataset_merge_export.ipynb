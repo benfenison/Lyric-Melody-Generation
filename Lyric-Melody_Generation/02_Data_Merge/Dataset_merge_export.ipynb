{
 "cells": [
  {
   "cell_type": "code",
   "execution_count": 1,
   "metadata": {},
   "outputs": [],
   "source": [
    "import pandas as pd\n",
    "import numpy as np"
   ]
  },
  {
   "cell_type": "markdown",
   "metadata": {},
   "source": [
    "### Merging Spotify Songs with lyrics from GeniusAPI"
   ]
  },
  {
   "cell_type": "markdown",
   "metadata": {},
   "source": [
    "- Merging datasets\n",
    "- Dropping NA values and Duplicates"
   ]
  },
  {
   "cell_type": "code",
   "execution_count": 10,
   "metadata": {
    "scrolled": false
   },
   "outputs": [],
   "source": [
    "df_cty = pd.read_csv('../Data/df_cty.csv').drop(columns = ['Unnamed: 0'])\n",
    "df_cty_lyrics = pd.read_csv('../Data/df_cty_lyrics.csv').drop(columns = ['Unnamed: 0'])\n",
    "df_cty_final = pd.merge(df_cty ,df_cty_lyrics).dropna().drop_duplicates()"
   ]
  },
  {
   "cell_type": "code",
   "execution_count": 11,
   "metadata": {},
   "outputs": [],
   "source": [
    "df_rb = pd.read_csv('../Data/df_rb.csv').drop(columns = ['Unnamed: 0'])\n",
    "df_rb_lyrics = pd.read_csv('../Data/df_rb_lyrics.csv').drop(columns = ['Unnamed: 0'])\n",
    "df_rb_final = pd.merge(df_rb ,df_rb_lyrics).dropna().drop_duplicates()"
   ]
  },
  {
   "cell_type": "code",
   "execution_count": 14,
   "metadata": {},
   "outputs": [],
   "source": [
    "df_rock = pd.read_csv('../Data/df_rock.csv').drop(columns = ['Unnamed: 0'])\n",
    "df_rock_lyrics = pd.read_csv('../Data/df_rock_lyrics.csv').drop(columns = ['Unnamed: 0'])\n",
    "df_rock_final = pd.merge(df_rock ,df_rock_lyrics).dropna().drop_duplicates()"
   ]
  },
  {
   "cell_type": "markdown",
   "metadata": {},
   "source": [
    "### Export Final datasets for each genre"
   ]
  },
  {
   "cell_type": "code",
   "execution_count": 15,
   "metadata": {},
   "outputs": [],
   "source": [
    "df_cty_final.to_csv('../Data/df_cty_final.csv', index = False)\n",
    "df_rb_final.to_csv('../Data/df_rb_final.csv', index = False)\n",
    "df_rock_final.to_csv('../Data/df_rock_final.csv', index = False)"
   ]
  }
 ],
 "metadata": {
  "kernelspec": {
   "display_name": "Python 3 (ipykernel)",
   "language": "python",
   "name": "python3"
  },
  "language_info": {
   "codemirror_mode": {
    "name": "ipython",
    "version": 3
   },
   "file_extension": ".py",
   "mimetype": "text/x-python",
   "name": "python",
   "nbconvert_exporter": "python",
   "pygments_lexer": "ipython3",
   "version": "3.9.7"
  }
 },
 "nbformat": 4,
 "nbformat_minor": 2
}
