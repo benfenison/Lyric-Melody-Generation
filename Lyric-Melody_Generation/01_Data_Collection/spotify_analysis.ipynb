{
 "cells": [
  {
   "cell_type": "markdown",
   "metadata": {},
   "source": [
    "# Song Analysis Using Spotify API"
   ]
  },
  {
   "cell_type": "code",
   "execution_count": 1,
   "metadata": {},
   "outputs": [],
   "source": [
    "#import libraries\n",
    "import sys\n",
    "import spotipy\n",
    "import spotipy.util as util\n",
    "from spotipy.oauth2 import SpotifyClientCredentials\n",
    "import pandas as pd\n",
    "import numpy as np\n",
    "from bs4 import BeautifulSoup as bs\n",
    "from sklearn.metrics import pairwise_distances"
   ]
  },
  {
   "cell_type": "code",
   "execution_count": 2,
   "metadata": {},
   "outputs": [],
   "source": [
    "#Spotify authorization scope\n",
    "scope = 'user-library-read'"
   ]
  },
  {
   "cell_type": "code",
   "execution_count": 3,
   "metadata": {},
   "outputs": [],
   "source": [
    "#Spotify API credentials\n",
    "# %store -r spotify_cid\n",
    "# cid = spotify_cid\n",
    "# %store -r spotify_secret\n",
    "# secret = spotify_secret"
   ]
  },
  {
   "cell_type": "code",
   "execution_count": 4,
   "metadata": {},
   "outputs": [],
   "source": [
    "cid = '23e7ed135658410698818505b543dabb'\n",
    "secret = 'a86d41a058e64658b83d7c5900dff17f'"
   ]
  },
  {
   "cell_type": "code",
   "execution_count": 5,
   "metadata": {},
   "outputs": [],
   "source": [
    "#connect to Spotify through wrapper Spotipy\n",
    "client_cred = SpotifyClientCredentials(client_id=cid, client_secret=secret)\n",
    "sp = spotipy.Spotify(client_credentials_manager = client_cred)"
   ]
  },
  {
   "cell_type": "markdown",
   "metadata": {},
   "source": [
    "### Functions"
   ]
  },
  {
   "cell_type": "code",
   "execution_count": 6,
   "metadata": {},
   "outputs": [],
   "source": [
    "def get_track_info(track,artist):\n",
    "    '''\n",
    "    function returns dictionary with track's info (including audio features)\n",
    "    parameters:\n",
    "        track-->str\n",
    "        artist-->str\n",
    "    '''\n",
    "    #search Spotify API for general song info\n",
    "    info_json = sp.search(q='artist:' + artist + ' track:' + track)\n",
    "\n",
    "    #create dictionary with song info\n",
    "    info = {'track':info_json['tracks']['items'][0]['name'],\n",
    "            'artist':info_json['tracks']['items'][0]['album']['artists'][0]['name'],\n",
    "            'track_id':info_json['tracks']['items'][0]['id'],\n",
    "            'release_date':info_json['tracks']['items'][0]['album']['release_date']}\n",
    "            \n",
    "    #add audio features to dictionary\n",
    "    audio_info = sp.audio_features(info['track_id'])[0]\n",
    "    info['dance'] = audio_info['danceability']\n",
    "    info['energy'] = audio_info['energy']\n",
    "    info['loud'] = audio_info['loudness']\n",
    "    info['speech'] = audio_info['speechiness']\n",
    "    info['acoust'] = audio_info['acousticness']\n",
    "    info['live'] = audio_info['liveness']\n",
    "    info['valence'] = audio_info['valence']\n",
    "    info['tempo'] = audio_info['tempo']\n",
    "    \n",
    "    return info"
   ]
  },
  {
   "cell_type": "code",
   "execution_count": 7,
   "metadata": {},
   "outputs": [],
   "source": [
    "def get_sim_songs(id_list):\n",
    "    '''\n",
    "    function returns list of tup (track, artist) of songs similar to seed tracks\n",
    "    parameters:\n",
    "        id_list-->list of song ids (str) for seed tracks\n",
    "    '''\n",
    "    #find similar songs (using Spotify's bart algorithm)\n",
    "    song_recs = sp.recommendations(limit=100,seed_tracks=[i for i in id_list])['tracks']\n",
    "    \n",
    "    #create list of tup (track,artist)\n",
    "    sim_songs = [(s['name'],s['artists'][0]['name']) for s in song_recs]\n",
    "    \n",
    "    return sim_songs"
   ]
  },
  {
   "cell_type": "code",
   "execution_count": 8,
   "metadata": {},
   "outputs": [],
   "source": [
    "def get_df(track_list):\n",
    "    '''\n",
    "    function returns dataframe with audio features for available songs\n",
    "    parameters:\n",
    "        track_list-->list of tup (track, artist) of songs\n",
    "    '''\n",
    "    d = []\n",
    "    for track, artist in track_list:\n",
    "        try:\n",
    "            d.append(get_track_info(track.lower().replace(\"'\",\"\"),\n",
    "                                    artist.lower().replace(\"'\",\"\")))\n",
    "        except:\n",
    "            print(track + ' by ' + artist + ' is not available')\n",
    "            \n",
    "    return pd.DataFrame(data=d)"
   ]
  },
  {
   "cell_type": "code",
   "execution_count": 9,
   "metadata": {},
   "outputs": [],
   "source": [
    "def rank_by_features(df_seed,df_rec):\n",
    "    '''\n",
    "    function returns df_rec sorted by similarity to seed tracks\n",
    "    parameters:\n",
    "        df_seed-->dataframe with seed tracks\n",
    "        df_rec-->dataframe with songs recommended by Spotify API\n",
    "    '''\n",
    "    #calculate average values in seed tracks\n",
    "    row_df = pd.DataFrame(data=[df_seed.mean(axis=0)],index=['seed_avg'])\n",
    "    \n",
    "    #calculate Euclidean distance with seed averages\n",
    "    df_rec['sim_score'] = 1-pairwise_distances(df_rec.drop(columns=['track','track_id','artist','release_date']),\n",
    "                                               row_df.to_numpy()[0,None],\n",
    "                                               metric='euclidean')\n",
    "   \n",
    "    #sort dataframe by similarity to seed averages\n",
    "    return df_rec.sort_values(by='sim_score',ascending=False)"
   ]
  },
  {
   "cell_type": "code",
   "execution_count": 10,
   "metadata": {},
   "outputs": [],
   "source": [
    "def get_more_songs(df_seed,df_rec):\n",
    "    '''\n",
    "    function returns dataframe with 1000+ similar tracks\n",
    "        *feeds songs most similar to seed tracks (based on Euclidean distance) through Spotify recommender\n",
    "        *songs recommended based on input of most similar song are added to dataframe\n",
    "        *duplicates are dropped\n",
    "    dataframe will be used to obtain lyrics from Genius API\n",
    "        *different notebook\n",
    "    \n",
    "    parameters:\n",
    "        df_seed-->dataframe with seed tracks\n",
    "        df_rec-->dataframe with songs recommended by Spotify API\n",
    "            *ranked by similarity to seed tracks\n",
    "    '''\n",
    "    #combine df_seed and df_rec into one dataframe\n",
    "    df = pd.concat([df_seed,df_rec])\n",
    "    \n",
    "    #find songs using those deemed most similar to seed tracks\n",
    "    rank = len(df_seed)\n",
    "    while len(df) < 1000:\n",
    "        sim = get_sim_songs([df.iloc[rank]['track_id']]) #get similar tracks\n",
    "        df_sim = get_df(sim) #get track info and put in dataframe\n",
    "        df_sim = rank_by_features(df_seed,df_sim) #obtain similarity scores\n",
    "        df = pd.concat([df,df_sim]) #add new songs to existing dataframe\n",
    "        df.drop_duplicates(inplace=True) #remove duplicates\n",
    "        rank+=1\n",
    "        \n",
    "    df.reset_index(drop=True,inplace=True)\n",
    "    \n",
    "    return df"
   ]
  },
  {
   "cell_type": "markdown",
   "metadata": {},
   "source": [
    "### Information on Seed Tracks\n",
    "\n",
    "The lists below contain the top five tracks for each of country, R&B/hip-hop, and rock/alternative as of the week of May 15, 2021, based on Billboard Top 100 charts."
   ]
  },
  {
   "cell_type": "code",
   "execution_count": 11,
   "metadata": {},
   "outputs": [
    {
     "name": "stdout",
     "output_type": "stream",
     "text": [
      "'Til You Can't by Luke Combs is not available\n"
     ]
    }
   ],
   "source": [
    "#country seed tracks\n",
    "cty_songs = [(\"'Til You Can't\",'Luke Combs'),\n",
    "             ('Buy Dirt','Jordan Davis'),\n",
    "             ('Fancy Like','Walker Hayes'),\n",
    "             ('Sand In My Boots','Morgan Wallen'),\n",
    "             (\"If I Didn't Love You\",'Jason Aldean')]\n",
    "\n",
    "#create dataframe with track information\n",
    "df_cty = get_df(cty_songs)"
   ]
  },
  {
   "cell_type": "code",
   "execution_count": 12,
   "metadata": {},
   "outputs": [
    {
     "name": "stdout",
     "output_type": "stream",
     "text": [
      "won't stand down by muse is not available\n"
     ]
    }
   ],
   "source": [
    "#rock/alternative seed tracks\n",
    "rock_songs = [('Planet Zero','SHINEDOWN'),\n",
    "              ('Black Summer','Red hot chili peppers'),\n",
    "              ('Love dies young','foo fighters'),\n",
    "              ('so called life','three days grace'),\n",
    "              (\"won't stand down\",'muse')]\n",
    "\n",
    "#create dataframe with track information\n",
    "df_rock = get_df(rock_songs)"
   ]
  },
  {
   "cell_type": "markdown",
   "metadata": {},
   "source": [
    "### Song Recommendations\n",
    "\n",
    "Use get_sim_songs function to find song recommendations for respective genres and create dataframes with song information for recommended songs."
   ]
  },
  {
   "cell_type": "code",
   "execution_count": 13,
   "metadata": {
    "scrolled": true
   },
   "outputs": [],
   "source": [
    "#country\n",
    "sim_cty = get_sim_songs(df_cty['track_id'])\n",
    "df_sim_cty = get_df(sim_cty)"
   ]
  },
  {
   "cell_type": "code",
   "execution_count": 14,
   "metadata": {},
   "outputs": [
    {
     "name": "stdout",
     "output_type": "stream",
     "text": [
      "Circle The Drain - Stripped by Wage War is not available\n"
     ]
    }
   ],
   "source": [
    "#rock/alternative\n",
    "sim_rock = get_sim_songs(df_rock['track_id'])\n",
    "df_sim_rock = get_df(sim_rock)"
   ]
  },
  {
   "cell_type": "markdown",
   "metadata": {},
   "source": [
    "### Rank Songs by Similarity with Seed Tracks Using Euclidean Distance"
   ]
  },
  {
   "cell_type": "code",
   "execution_count": 15,
   "metadata": {},
   "outputs": [
    {
     "name": "stderr",
     "output_type": "stream",
     "text": [
      "/var/folders/2v/qnfbs7f539d_d_vxqj6lwsdr0000gn/T/ipykernel_53277/3193603883.py:9: FutureWarning: Dropping of nuisance columns in DataFrame reductions (with 'numeric_only=None') is deprecated; in a future version this will raise TypeError.  Select only valid columns before calling the reduction.\n",
      "  row_df = pd.DataFrame(data=[df_seed.mean(axis=0)],index=['seed_avg'])\n"
     ]
    }
   ],
   "source": [
    "#country\n",
    "df_sim_cty = rank_by_features(df_cty,df_sim_cty)"
   ]
  },
  {
   "cell_type": "code",
   "execution_count": 16,
   "metadata": {},
   "outputs": [
    {
     "name": "stderr",
     "output_type": "stream",
     "text": [
      "/var/folders/2v/qnfbs7f539d_d_vxqj6lwsdr0000gn/T/ipykernel_53277/3193603883.py:9: FutureWarning: Dropping of nuisance columns in DataFrame reductions (with 'numeric_only=None') is deprecated; in a future version this will raise TypeError.  Select only valid columns before calling the reduction.\n",
      "  row_df = pd.DataFrame(data=[df_seed.mean(axis=0)],index=['seed_avg'])\n"
     ]
    }
   ],
   "source": [
    "#rock/alternative\n",
    "df_sim_rock = rank_by_features(df_rock,df_sim_rock)"
   ]
  },
  {
   "cell_type": "markdown",
   "metadata": {},
   "source": [
    "### Find More Songs Similar to Seed Tracks Using Ranked Songs"
   ]
  },
  {
   "cell_type": "code",
   "execution_count": 19,
   "metadata": {},
   "outputs": [],
   "source": [
    "#country\n",
    "df_sim_cty = get_more_songs(df_cty,df_sim_cty)\n",
    "df_sim_cty.to_csv('../Data/df_cty.csv') #write dataframe to file"
   ]
  },
  {
   "cell_type": "code",
   "execution_count": 20,
   "metadata": {},
   "outputs": [
    {
     "name": "stdout",
     "output_type": "stream",
     "text": [
      "Trying To Find A World That's Been And Gone: Part 1 - Demo by Noel Gallagher's High Flying Birds is not available\n"
     ]
    },
    {
     "name": "stderr",
     "output_type": "stream",
     "text": [
      "/var/folders/2v/qnfbs7f539d_d_vxqj6lwsdr0000gn/T/ipykernel_53277/3193603883.py:9: FutureWarning: Dropping of nuisance columns in DataFrame reductions (with 'numeric_only=None') is deprecated; in a future version this will raise TypeError.  Select only valid columns before calling the reduction.\n",
      "  row_df = pd.DataFrame(data=[df_seed.mean(axis=0)],index=['seed_avg'])\n",
      "/var/folders/2v/qnfbs7f539d_d_vxqj6lwsdr0000gn/T/ipykernel_53277/3193603883.py:9: FutureWarning: Dropping of nuisance columns in DataFrame reductions (with 'numeric_only=None') is deprecated; in a future version this will raise TypeError.  Select only valid columns before calling the reduction.\n",
      "  row_df = pd.DataFrame(data=[df_seed.mean(axis=0)],index=['seed_avg'])\n",
      "/var/folders/2v/qnfbs7f539d_d_vxqj6lwsdr0000gn/T/ipykernel_53277/3193603883.py:9: FutureWarning: Dropping of nuisance columns in DataFrame reductions (with 'numeric_only=None') is deprecated; in a future version this will raise TypeError.  Select only valid columns before calling the reduction.\n",
      "  row_df = pd.DataFrame(data=[df_seed.mean(axis=0)],index=['seed_avg'])\n"
     ]
    },
    {
     "name": "stdout",
     "output_type": "stream",
     "text": [
      "When Your Heart Stops Beating by +44 is not available\n"
     ]
    },
    {
     "name": "stderr",
     "output_type": "stream",
     "text": [
      "/var/folders/2v/qnfbs7f539d_d_vxqj6lwsdr0000gn/T/ipykernel_53277/3193603883.py:9: FutureWarning: Dropping of nuisance columns in DataFrame reductions (with 'numeric_only=None') is deprecated; in a future version this will raise TypeError.  Select only valid columns before calling the reduction.\n",
      "  row_df = pd.DataFrame(data=[df_seed.mean(axis=0)],index=['seed_avg'])\n",
      "/var/folders/2v/qnfbs7f539d_d_vxqj6lwsdr0000gn/T/ipykernel_53277/3193603883.py:9: FutureWarning: Dropping of nuisance columns in DataFrame reductions (with 'numeric_only=None') is deprecated; in a future version this will raise TypeError.  Select only valid columns before calling the reduction.\n",
      "  row_df = pd.DataFrame(data=[df_seed.mean(axis=0)],index=['seed_avg'])\n",
      "/var/folders/2v/qnfbs7f539d_d_vxqj6lwsdr0000gn/T/ipykernel_53277/3193603883.py:9: FutureWarning: Dropping of nuisance columns in DataFrame reductions (with 'numeric_only=None') is deprecated; in a future version this will raise TypeError.  Select only valid columns before calling the reduction.\n",
      "  row_df = pd.DataFrame(data=[df_seed.mean(axis=0)],index=['seed_avg'])\n",
      "/var/folders/2v/qnfbs7f539d_d_vxqj6lwsdr0000gn/T/ipykernel_53277/3193603883.py:9: FutureWarning: Dropping of nuisance columns in DataFrame reductions (with 'numeric_only=None') is deprecated; in a future version this will raise TypeError.  Select only valid columns before calling the reduction.\n",
      "  row_df = pd.DataFrame(data=[df_seed.mean(axis=0)],index=['seed_avg'])\n",
      "/var/folders/2v/qnfbs7f539d_d_vxqj6lwsdr0000gn/T/ipykernel_53277/3193603883.py:9: FutureWarning: Dropping of nuisance columns in DataFrame reductions (with 'numeric_only=None') is deprecated; in a future version this will raise TypeError.  Select only valid columns before calling the reduction.\n",
      "  row_df = pd.DataFrame(data=[df_seed.mean(axis=0)],index=['seed_avg'])\n"
     ]
    },
    {
     "name": "stdout",
     "output_type": "stream",
     "text": [
      "Glycerine - Remastered by Bush is not available\n"
     ]
    },
    {
     "name": "stderr",
     "output_type": "stream",
     "text": [
      "/var/folders/2v/qnfbs7f539d_d_vxqj6lwsdr0000gn/T/ipykernel_53277/3193603883.py:9: FutureWarning: Dropping of nuisance columns in DataFrame reductions (with 'numeric_only=None') is deprecated; in a future version this will raise TypeError.  Select only valid columns before calling the reduction.\n",
      "  row_df = pd.DataFrame(data=[df_seed.mean(axis=0)],index=['seed_avg'])\n"
     ]
    },
    {
     "name": "stdout",
     "output_type": "stream",
     "text": [
      "Circle The Drain - Stripped by Wage War is not available\n"
     ]
    },
    {
     "name": "stderr",
     "output_type": "stream",
     "text": [
      "/var/folders/2v/qnfbs7f539d_d_vxqj6lwsdr0000gn/T/ipykernel_53277/3193603883.py:9: FutureWarning: Dropping of nuisance columns in DataFrame reductions (with 'numeric_only=None') is deprecated; in a future version this will raise TypeError.  Select only valid columns before calling the reduction.\n",
      "  row_df = pd.DataFrame(data=[df_seed.mean(axis=0)],index=['seed_avg'])\n"
     ]
    },
    {
     "name": "stdout",
     "output_type": "stream",
     "text": [
      "Trying To Find A World That's Been And Gone: Part 1 - Demo by Noel Gallagher's High Flying Birds is not available\n"
     ]
    },
    {
     "name": "stderr",
     "output_type": "stream",
     "text": [
      "/var/folders/2v/qnfbs7f539d_d_vxqj6lwsdr0000gn/T/ipykernel_53277/3193603883.py:9: FutureWarning: Dropping of nuisance columns in DataFrame reductions (with 'numeric_only=None') is deprecated; in a future version this will raise TypeError.  Select only valid columns before calling the reduction.\n",
      "  row_df = pd.DataFrame(data=[df_seed.mean(axis=0)],index=['seed_avg'])\n",
      "/var/folders/2v/qnfbs7f539d_d_vxqj6lwsdr0000gn/T/ipykernel_53277/3193603883.py:9: FutureWarning: Dropping of nuisance columns in DataFrame reductions (with 'numeric_only=None') is deprecated; in a future version this will raise TypeError.  Select only valid columns before calling the reduction.\n",
      "  row_df = pd.DataFrame(data=[df_seed.mean(axis=0)],index=['seed_avg'])\n"
     ]
    }
   ],
   "source": [
    "#rock/alternative\n",
    "df_sim_rock = get_more_songs(df_rock,df_sim_rock)\n",
    "df_sim_rock.to_csv('../Data/df_rock.csv') #write dataframe to file"
   ]
  },
  {
   "cell_type": "code",
   "execution_count": null,
   "metadata": {},
   "outputs": [],
   "source": []
  }
 ],
 "metadata": {
  "kernelspec": {
   "display_name": "Python 3 (ipykernel)",
   "language": "python",
   "name": "python3"
  },
  "language_info": {
   "codemirror_mode": {
    "name": "ipython",
    "version": 3
   },
   "file_extension": ".py",
   "mimetype": "text/x-python",
   "name": "python",
   "nbconvert_exporter": "python",
   "pygments_lexer": "ipython3",
   "version": "3.9.7"
  }
 },
 "nbformat": 4,
 "nbformat_minor": 4
}
