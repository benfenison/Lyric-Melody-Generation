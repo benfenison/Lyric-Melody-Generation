{
 "cells": [
  {
   "cell_type": "markdown",
   "metadata": {},
   "source": [
    "# Song Analysis Using Spotify API"
   ]
  },
  {
   "cell_type": "code",
   "execution_count": 2,
   "metadata": {},
   "outputs": [],
   "source": [
    "#import libraries\n",
    "import sys\n",
    "import spotipy\n",
    "import spotipy.util as util\n",
    "from spotipy.oauth2 import SpotifyClientCredentials\n",
    "import pandas as pd\n",
    "import numpy as np\n",
    "from bs4 import BeautifulSoup as bs\n",
    "from sklearn.metrics import pairwise_distances\n",
    "\n",
    "import random"
   ]
  },
  {
   "cell_type": "code",
   "execution_count": 3,
   "metadata": {},
   "outputs": [],
   "source": [
    "#Spotify authorization scope\n",
    "scope = 'user-library-read'"
   ]
  },
  {
   "cell_type": "code",
   "execution_count": 4,
   "metadata": {},
   "outputs": [],
   "source": [
    "#Spotify API credentials\n",
    "# %store -r spotify_cid\n",
    "# cid = spotify_cid\n",
    "# %store -r spotify_secret\n",
    "# secret = spotify_secret"
   ]
  },
  {
   "cell_type": "code",
   "execution_count": 6,
   "metadata": {},
   "outputs": [],
   "source": [
    "#connect to Spotify through wrapper Spotipy\n",
    "client_cred = SpotifyClientCredentials(client_id=cid, client_secret=secret)\n",
    "sp = spotipy.Spotify(client_credentials_manager = client_cred)"
   ]
  },
  {
   "cell_type": "markdown",
   "metadata": {},
   "source": [
    "### Functions"
   ]
  },
  {
   "cell_type": "code",
   "execution_count": 7,
   "metadata": {},
   "outputs": [],
   "source": [
    "def get_track_info(track,artist):\n",
    "    '''\n",
    "    function returns dictionary with track's info (including audio features)\n",
    "    parameters:\n",
    "        track-->str\n",
    "        artist-->str\n",
    "    '''\n",
    "    #search Spotify API for general song info\n",
    "    info_json = sp.search(q='artist:' + artist + ' track:' + track)\n",
    "\n",
    "    #create dictionary with song info\n",
    "    info = {'track':info_json['tracks']['items'][0]['name'],\n",
    "            'artist':info_json['tracks']['items'][0]['album']['artists'][0]['name'],\n",
    "            'track_id':info_json['tracks']['items'][0]['id'],\n",
    "            'release_date':info_json['tracks']['items'][0]['album']['release_date'],\n",
    "            'url': info_json['tracks']['items'][0]['artists'][0]['external_urls']['spotify']}\n",
    "            \n",
    "    #add audio features to dictionary\n",
    "    audio_info = sp.audio_features(info['track_id'])[0]\n",
    "    info['dance'] = audio_info['danceability']\n",
    "    info['energy'] = audio_info['energy']\n",
    "    info['loud'] = audio_info['loudness']\n",
    "    info['speech'] = audio_info['speechiness']\n",
    "    info['acoust'] = audio_info['acousticness']\n",
    "    info['live'] = audio_info['liveness']\n",
    "    info['valence'] = audio_info['valence']\n",
    "    info['tempo'] = audio_info['tempo']\n",
    "    \n",
    "    return info"
   ]
  },
  {
   "cell_type": "code",
   "execution_count": 49,
   "metadata": {},
   "outputs": [],
   "source": [
    "def get_sim_songs(id_list):\n",
    "    '''\n",
    "    function returns list of tup (track, artist) of songs similar to seed tracks\n",
    "    parameters:\n",
    "        id_list-->list of song ids (str) for seed tracks\n",
    "    '''\n",
    "    #find similar songs (using Spotify's bart algorithm)\n",
    "    song_recs = sp.recommendations(limit=100,seed_tracks=[i for i in id_list])['tracks']\n",
    "    \n",
    "    #create list of tup (track,artist)\n",
    "    sim_songs = [(s['name'],s['artists'][0]['name'],s['id'], s['external_urls']['spotify']) for s in song_recs]\n",
    "    \n",
    "    return sim_songs"
   ]
  },
  {
   "cell_type": "code",
   "execution_count": null,
   "metadata": {},
   "outputs": [],
   "source": [
    "def get_df(track_list):\n",
    "    '''\n",
    "    function returns dataframe with audio features for available songs\n",
    "    parameters:\n",
    "        track_list-->list of tup (track, artist) of songs\n",
    "    '''\n",
    "    d = []\n",
    "    for track, artist in track_list:\n",
    "        try:\n",
    "            d.append(get_track_info(track.lower().replace(\"'\",\"\"),\n",
    "                                    artist.lower().replace(\"'\",\"\")))\n",
    "        except:\n",
    "            print(track + ' by ' + artist + ' is not available')\n",
    "            \n",
    "    return pd.DataFrame(data=d)"
   ]
  },
  {
   "cell_type": "code",
   "execution_count": null,
   "metadata": {},
   "outputs": [],
   "source": [
    "#rock/alternative seed tracks\n",
    "rock_songs = [('Planet Zero','SHINEDOWN'),\n",
    "              ('Black Summer','Red hot chili peppers'),\n",
    "              ('Love dies young','foo fighters'),\n",
    "              ('so called life','three days grace'),\n",
    "              (\"Love Sux\",'Avril Lavigne')]\n",
    "\n",
    "#create dataframe with track information\n",
    "df_rock = get_df(rock_songs)"
   ]
  },
  {
   "cell_type": "code",
   "execution_count": 50,
   "metadata": {},
   "outputs": [],
   "source": [
    "all_songs = get_sim_songs(df_rock.track_id)"
   ]
  },
  {
   "cell_type": "code",
   "execution_count": 54,
   "metadata": {
    "scrolled": false
   },
   "outputs": [],
   "source": [
    "random_songs = random.choices(sim_ids , k = 5)"
   ]
  },
  {
   "cell_type": "code",
   "execution_count": 60,
   "metadata": {},
   "outputs": [],
   "source": [
    "new_songs = [i[2] for i in random]"
   ]
  },
  {
   "cell_type": "code",
   "execution_count": 72,
   "metadata": {},
   "outputs": [],
   "source": [
    "all_songs = get_sim_songs(df_rock.track_id)\n",
    "while len(set(all_songs)) < 30000:\n",
    "    random_songs = random.choices(all_songs , k = 5)\n",
    "    new_songs = [i[2] for i in random_songs]\n",
    "    all_songs.extend(get_sim_songs(new_songs))\n"
   ]
  },
  {
   "cell_type": "code",
   "execution_count": 76,
   "metadata": {},
   "outputs": [],
   "source": [
    "unique_songs = set(all_songs)"
   ]
  },
  {
   "cell_type": "code",
   "execution_count": 80,
   "metadata": {},
   "outputs": [],
   "source": [
    "song_df = pd.DataFrame(unique_songs ,  columns = ['track','artist','id','url'])"
   ]
  },
  {
   "cell_type": "code",
   "execution_count": 81,
   "metadata": {},
   "outputs": [],
   "source": [
    "song_df.to_csv('../Data/rock_songs_30k.csv')"
   ]
  },
  {
   "cell_type": "code",
   "execution_count": 2,
   "metadata": {},
   "outputs": [],
   "source": [
    "! pip3 freeze > requirements.txt "
   ]
  },
  {
   "cell_type": "code",
   "execution_count": null,
   "metadata": {},
   "outputs": [],
   "source": []
  }
 ],
 "metadata": {
  "kernelspec": {
   "display_name": "Python 3 (ipykernel)",
   "language": "python",
   "name": "python3"
  },
  "language_info": {
   "codemirror_mode": {
    "name": "ipython",
    "version": 3
   },
   "file_extension": ".py",
   "mimetype": "text/x-python",
   "name": "python",
   "nbconvert_exporter": "python",
   "pygments_lexer": "ipython3",
   "version": "3.9.7"
  }
 },
 "nbformat": 4,
 "nbformat_minor": 4
}
