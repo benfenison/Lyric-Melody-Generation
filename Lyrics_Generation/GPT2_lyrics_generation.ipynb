{
 "cells": [
  {
   "cell_type": "markdown",
   "metadata": {},
   "source": [
    "### GPT-2 Lyrics Generation"
   ]
  },
  {
   "cell_type": "code",
   "execution_count": 1,
   "metadata": {},
   "outputs": [],
   "source": [
    "import pandas as pd\n",
    "from ast import literal_eval\n",
    "import random\n",
    "import re\n",
    "from tqdm import tqdm\n",
    "\n",
    "import tensorflow as tf\n",
    "import gpt_2_simple as gpt2\n",
    "from nltk.translate.bleu_score import sentence_bleu, SmoothingFunction"
   ]
  },
  {
   "cell_type": "code",
   "execution_count": 2,
   "metadata": {},
   "outputs": [],
   "source": [
    "###### Uncomment to download the different gpt2 sized models ######\n",
    "\n",
    "# for model_name in [\"124M\",\"355M\"]:\n",
    "#     gpt2.download_gpt2(model_name=model_name)"
   ]
  },
  {
   "cell_type": "markdown",
   "metadata": {},
   "source": [
    "#### Import the lyrics csv"
   ]
  },
  {
   "cell_type": "code",
   "execution_count": 83,
   "metadata": {},
   "outputs": [
    {
     "data": {
      "text/html": [
       "<div>\n",
       "<style scoped>\n",
       "    .dataframe tbody tr th:only-of-type {\n",
       "        vertical-align: middle;\n",
       "    }\n",
       "\n",
       "    .dataframe tbody tr th {\n",
       "        vertical-align: top;\n",
       "    }\n",
       "\n",
       "    .dataframe thead th {\n",
       "        text-align: right;\n",
       "    }\n",
       "</style>\n",
       "<table border=\"1\" class=\"dataframe\">\n",
       "  <thead>\n",
       "    <tr style=\"text-align: right;\">\n",
       "      <th></th>\n",
       "      <th>Unnamed: 0</th>\n",
       "      <th>track</th>\n",
       "      <th>artist</th>\n",
       "      <th>lyrics</th>\n",
       "      <th>words</th>\n",
       "      <th>segments</th>\n",
       "    </tr>\n",
       "  </thead>\n",
       "  <tbody>\n",
       "    <tr>\n",
       "      <th>0</th>\n",
       "      <td>0</td>\n",
       "      <td>Puerto Cabezas, NI</td>\n",
       "      <td>Lewis Del Mar</td>\n",
       "      <td>Puerto Cabezas, NI Lyrics[Verse 1]\\nHigh my bl...</td>\n",
       "      <td>[puerto, cabezas, ni, lyric, high, blood, heav...</td>\n",
       "      <td>[([Verse 1],  High my blood, heavy like hot ra...</td>\n",
       "    </tr>\n",
       "    <tr>\n",
       "      <th>1</th>\n",
       "      <td>1</td>\n",
       "      <td>The Way I Live - Main Explicit</td>\n",
       "      <td>Baby Boy Da Prince</td>\n",
       "      <td>The Way I Live Lyrics[Intro]\\nD-Wizzle on the ...</td>\n",
       "      <td>[way, live, lyric, dwizzle, track, dwizzle, tr...</td>\n",
       "      <td>[([Intro],  D-Wizzle on the track,  D-Wizzle o...</td>\n",
       "    </tr>\n",
       "    <tr>\n",
       "      <th>2</th>\n",
       "      <td>2</td>\n",
       "      <td>MAFIA</td>\n",
       "      <td>Travis Scott</td>\n",
       "      <td>MAFIA Lyrics[Verse 1: Travis Scott]\\nCustom th...</td>\n",
       "      <td>[mafia, lyric, custom, thing, custom, wing, cu...</td>\n",
       "      <td>[([Verse 1: Travis Scott],  Custom the things,...</td>\n",
       "    </tr>\n",
       "    <tr>\n",
       "      <th>3</th>\n",
       "      <td>3</td>\n",
       "      <td>Am I Alright</td>\n",
       "      <td>Aly &amp; AJ</td>\n",
       "      <td>Am I Alright Lyrics[Verse 1]\\nEvery day, every...</td>\n",
       "      <td>[alright, lyric, every, day, every, day, pulli...</td>\n",
       "      <td>[([Verse 1],  Every day, every day I'm pulling...</td>\n",
       "    </tr>\n",
       "    <tr>\n",
       "      <th>4</th>\n",
       "      <td>4</td>\n",
       "      <td>Mountain Sound</td>\n",
       "      <td>Of Monsters and Men</td>\n",
       "      <td>Mountain Sound Lyrics[Verse 1: Ragnar Þórhalls...</td>\n",
       "      <td>[mountain, sound, lyric, heard, calling, dista...</td>\n",
       "      <td>[([Verse 1: Ragnar Þórhallsson],  I heard them...</td>\n",
       "    </tr>\n",
       "  </tbody>\n",
       "</table>\n",
       "</div>"
      ],
      "text/plain": [
       "   Unnamed: 0                           track               artist  \\\n",
       "0           0              Puerto Cabezas, NI        Lewis Del Mar   \n",
       "1           1  The Way I Live - Main Explicit   Baby Boy Da Prince   \n",
       "2           2                           MAFIA         Travis Scott   \n",
       "3           3                    Am I Alright             Aly & AJ   \n",
       "4           4                  Mountain Sound  Of Monsters and Men   \n",
       "\n",
       "                                              lyrics  \\\n",
       "0  Puerto Cabezas, NI Lyrics[Verse 1]\\nHigh my bl...   \n",
       "1  The Way I Live Lyrics[Intro]\\nD-Wizzle on the ...   \n",
       "2  MAFIA Lyrics[Verse 1: Travis Scott]\\nCustom th...   \n",
       "3  Am I Alright Lyrics[Verse 1]\\nEvery day, every...   \n",
       "4  Mountain Sound Lyrics[Verse 1: Ragnar Þórhalls...   \n",
       "\n",
       "                                               words  \\\n",
       "0  [puerto, cabezas, ni, lyric, high, blood, heav...   \n",
       "1  [way, live, lyric, dwizzle, track, dwizzle, tr...   \n",
       "2  [mafia, lyric, custom, thing, custom, wing, cu...   \n",
       "3  [alright, lyric, every, day, every, day, pulli...   \n",
       "4  [mountain, sound, lyric, heard, calling, dista...   \n",
       "\n",
       "                                            segments  \n",
       "0  [([Verse 1],  High my blood, heavy like hot ra...  \n",
       "1  [([Intro],  D-Wizzle on the track,  D-Wizzle o...  \n",
       "2  [([Verse 1: Travis Scott],  Custom the things,...  \n",
       "3  [([Verse 1],  Every day, every day I'm pulling...  \n",
       "4  [([Verse 1: Ragnar Þórhallsson],  I heard them...  "
      ]
     },
     "execution_count": 83,
     "metadata": {},
     "output_type": "execute_result"
    }
   ],
   "source": [
    "# import the lyrics as dataframe\n",
    "rock_lyrics_df = pd.read_csv('Data\\df_rock_30k_lyrics.csv', converters={'words':literal_eval,'segments':literal_eval})\n",
    "rock_lyrics_df.head()"
   ]
  },
  {
   "cell_type": "code",
   "execution_count": 84,
   "metadata": {},
   "outputs": [
    {
     "data": {
      "text/plain": [
       "(21723, 6)"
      ]
     },
     "execution_count": 84,
     "metadata": {},
     "output_type": "execute_result"
    }
   ],
   "source": [
    "rock_lyrics_df.shape"
   ]
  },
  {
   "cell_type": "markdown",
   "metadata": {},
   "source": [
    "#### Lyrics text preprocsessing"
   ]
  },
  {
   "cell_type": "markdown",
   "metadata": {},
   "source": [
    "Ruleset to simplify the tags into either intro, verse, chorus, or outro for each lyrical section."
   ]
  },
  {
   "cell_type": "code",
   "execution_count": 85,
   "metadata": {},
   "outputs": [],
   "source": [
    "def clean_segments_to_lyrics(segments):\n",
    "    \n",
    "    match_tags = {'cho': 'chorus',\n",
    "                'chr': 'chorus',\n",
    "                'hook': 'chorus',\n",
    "                'refrain': 'chorus',\n",
    "                'reprise': 'chorus',\n",
    "                'out': 'outro',\n",
    "                'ver': 'verse',\n",
    "                'bridge': 'verse',\n",
    "                'interlude': 'verse',\n",
    "                'breakdown': 'verse',\n",
    "                }\n",
    "    tag_list = ['intro','verse','chorus','outro']\n",
    "    tag_lyrics_list = []\n",
    "    for tag, seg in segments:\n",
    "        try:\n",
    "            # regex for getting names in the tags\n",
    "            clean_tag = re.match('(?:\\[)([\\-a-zA-Z\\s]+)(?:\\:)*', tag).group(1)\n",
    "        except:\n",
    "            clean_tag = tag\n",
    "        clean_tag = clean_tag.strip().lower()\n",
    "\n",
    "        # filter out instrumental tag lyrics which are usually empty\n",
    "        if 'instrument' in clean_tag:\n",
    "            continue\n",
    "\n",
    "        # convert tags to their most similar category\n",
    "        for tag_key, tag_value in match_tags.items():\n",
    "            if tag_key in clean_tag:\n",
    "                clean_tag = tag_value\n",
    "                break\n",
    "        \n",
    "        if clean_tag in tag_list:\n",
    "            tag_lyrics_list.append('[' + clean_tag + ']' + seg.strip() + '\\n\\n')\n",
    "    return ''.join(tag_lyrics_list)\n",
    "\n",
    "lyrics_df = rock_lyrics_df.copy()\n",
    "lyrics_df['cleaned_lyrics'] = rock_lyrics_df['segments'].apply(clean_segments_to_lyrics)\n"
   ]
  },
  {
   "cell_type": "markdown",
   "metadata": {},
   "source": [
    "Filter out songs that are too short or too long"
   ]
  },
  {
   "cell_type": "code",
   "execution_count": 111,
   "metadata": {},
   "outputs": [],
   "source": [
    "filtered_lyrics_df = lyrics_df[lyrics_df['cleaned_lyrics'].apply(lambda x: 10 < len(x.split(' ')) < 1000)]"
   ]
  },
  {
   "cell_type": "code",
   "execution_count": 112,
   "metadata": {},
   "outputs": [
    {
     "data": {
      "text/plain": [
       "(15056, 7)"
      ]
     },
     "execution_count": 112,
     "metadata": {},
     "output_type": "execute_result"
    }
   ],
   "source": [
    "filtered_lyrics_df.shape"
   ]
  },
  {
   "cell_type": "markdown",
   "metadata": {},
   "source": [
    "Remove unwanted texts and add necessary newline spaces within the text to maintain lyric readability"
   ]
  },
  {
   "cell_type": "code",
   "execution_count": 113,
   "metadata": {},
   "outputs": [],
   "source": [
    "def add_feature_lyrics(lyric):\n",
    "    clean_lyric = re.sub('(\\])', r'\\1\\n', lyric)\n",
    "    clean_lyric = re.sub('(\\s)([^Ia-z])', r'\\n\\2', clean_lyric)\n",
    "    clean_lyric = re.sub('(\\s)(I[\\'a-z]+\\s)', r'\\n\\2', clean_lyric)\n",
    "    clean_lyric = re.sub('(.)(\\d*Embed)', r'\\1 ', clean_lyric)\n",
    "    clean_lyric = clean_lyric.lower()\n",
    "    return clean_lyric\n",
    "\n",
    "filtered_lyrics_df = pd.DataFrame(filtered_lyrics_df['cleaned_lyrics'].apply(add_feature_lyrics))\n"
   ]
  },
  {
   "cell_type": "markdown",
   "metadata": {},
   "source": [
    "Example output for the cleaned lyrics:"
   ]
  },
  {
   "cell_type": "code",
   "execution_count": 194,
   "metadata": {},
   "outputs": [
    {
     "name": "stdout",
     "output_type": "stream",
     "text": [
      "[intro]\n",
      "colours, colours, colours, colours\n",
      "\n",
      "[verse]\n",
      "right there, just between the height of\n",
      "my friend, something left me thinking\n",
      "stay young and focus on the fireworks\n",
      "stand back and look a little higher\n",
      "\n",
      "[chorus]\n",
      "so many colours fill the sky\n",
      "so many good things to come\n",
      "if only they'd always caught \n"
     ]
    }
   ],
   "source": [
    "print(filtered_lyrics_df.sample().cleaned_lyrics.iloc[0][:300])"
   ]
  },
  {
   "cell_type": "code",
   "execution_count": 28,
   "metadata": {},
   "outputs": [],
   "source": [
    "# lyrics_df = lyrics_df.sample(1000)\n",
    "filtered_lyrics_df['cleaned_lyrics'].to_csv('Data/rock_15k_lyrics_only.txt',index=False,header=False,sep=' ')\n",
    "filtered_lyrics_df['cleaned_lyrics'].to_csv('Data/rock_15k_lyrics_only.csv',index=False)"
   ]
  },
  {
   "cell_type": "markdown",
   "metadata": {},
   "source": [
    "#### GPT-2 Model"
   ]
  },
  {
   "cell_type": "markdown",
   "metadata": {},
   "source": [
    "Load csv file with single column of lyrics "
   ]
  },
  {
   "cell_type": "code",
   "execution_count": 195,
   "metadata": {},
   "outputs": [
    {
     "data": {
      "text/html": [
       "<div>\n",
       "<style scoped>\n",
       "    .dataframe tbody tr th:only-of-type {\n",
       "        vertical-align: middle;\n",
       "    }\n",
       "\n",
       "    .dataframe tbody tr th {\n",
       "        vertical-align: top;\n",
       "    }\n",
       "\n",
       "    .dataframe thead th {\n",
       "        text-align: right;\n",
       "    }\n",
       "</style>\n",
       "<table border=\"1\" class=\"dataframe\">\n",
       "  <thead>\n",
       "    <tr style=\"text-align: right;\">\n",
       "      <th></th>\n",
       "      <th>cleaned_lyrics</th>\n",
       "    </tr>\n",
       "  </thead>\n",
       "  <tbody>\n",
       "    <tr>\n",
       "      <th>0</th>\n",
       "      <td>[verse]\\nhigh my blood, heavy like hot rain\\ni...</td>\n",
       "    </tr>\n",
       "    <tr>\n",
       "      <th>1</th>\n",
       "      <td>[intro]\\nd-wizzle on the track,\\n d-wizzle on ...</td>\n",
       "    </tr>\n",
       "    <tr>\n",
       "      <th>2</th>\n",
       "      <td>[verse]\\ncustom the things, custom the wings i...</td>\n",
       "    </tr>\n",
       "    <tr>\n",
       "      <th>3</th>\n",
       "      <td>[verse]\\nevery day, every day\\ni'm pulling the...</td>\n",
       "    </tr>\n",
       "    <tr>\n",
       "      <th>4</th>\n",
       "      <td>[verse]\\ni heard them calling in the distance\\...</td>\n",
       "    </tr>\n",
       "  </tbody>\n",
       "</table>\n",
       "</div>"
      ],
      "text/plain": [
       "                                      cleaned_lyrics\n",
       "0  [verse]\\nhigh my blood, heavy like hot rain\\ni...\n",
       "1  [intro]\\nd-wizzle on the track,\\n d-wizzle on ...\n",
       "2  [verse]\\ncustom the things, custom the wings i...\n",
       "3  [verse]\\nevery day, every day\\ni'm pulling the...\n",
       "4  [verse]\\ni heard them calling in the distance\\..."
      ]
     },
     "execution_count": 195,
     "metadata": {},
     "output_type": "execute_result"
    }
   ],
   "source": [
    "dataset_path = 'Data/rock_15k_lyrics_only.csv'\n",
    "pd.read_csv(dataset_path).head()"
   ]
  },
  {
   "cell_type": "markdown",
   "metadata": {},
   "source": [
    "Setting parameters for finetuning the GPT2 model"
   ]
  },
  {
   "cell_type": "code",
   "execution_count": null,
   "metadata": {},
   "outputs": [],
   "source": [
    "learning_rate = 1e-4\n",
    "optimizer = 'adam'\n",
    "batch_size = 1\n",
    "model_name = \"124M\"\n",
    "steps = 10000\n",
    "sess = None\n",
    "\n",
    "tf.compat.v1.reset_default_graph()\n",
    "if not sess:\n",
    "    sess = gpt2.start_tf_sess()\n",
    "else:\n",
    "    sess = gpt2.reset_session(sess)\n",
    "\n",
    "run_name = '15k_' + 'lr' + str(learning_rate)\n",
    "gpt2.finetune(sess,\n",
    "            dataset_path,\n",
    "            model_name=model_name,\n",
    "            learning_rate=learning_rate,\n",
    "            batch_size=batch_size,\n",
    "            steps=steps,\n",
    "            sample_every=10000,\n",
    "            sample_length=300,\n",
    "            save_every=2000,\n",
    "            print_every=10000,\n",
    "            restore_from='fresh',\n",
    "            run_name=run_name)\n"
   ]
  },
  {
   "cell_type": "markdown",
   "metadata": {},
   "source": [
    "#### Generate lyrics from fine-tuned gpt2_simple models"
   ]
  },
  {
   "cell_type": "code",
   "execution_count": 200,
   "metadata": {},
   "outputs": [
    {
     "name": "stdout",
     "output_type": "stream",
     "text": [
      "Loading checkpoint checkpoint\\15k_lr0.0001\\model-10000\n",
      "INFO:tensorflow:Restoring parameters from checkpoint\\15k_lr0.0001\\model-10000\n"
     ]
    }
   ],
   "source": [
    "tf.compat.v1.reset_default_graph()\n",
    "sess = gpt2.start_tf_sess()\n",
    "gpt2.load_gpt2(sess, run_name='15k_lr0.0001')"
   ]
  },
  {
   "cell_type": "code",
   "execution_count": 257,
   "metadata": {},
   "outputs": [
    {
     "name": "stdout",
     "output_type": "stream",
     "text": [
      "\n",
      "[verse]\n",
      "i see a new face in the emptiness \n",
      "i know you're out there somewhere watching over me\n",
      "but i'm leaving here tonight\n",
      "you know that it won't be long\n",
      "'til you see my fire\n",
      "\n",
      "[verse]\n",
      "we're on the road to somewhere far away\n",
      "it's always the first to last mile\n",
      "i've been waiting for this moment\n",
      "(i've been waiting for this moment)\n",
      "you know that it won't be long\n",
      "'til you see my fire\n",
      "\n",
      "[verse]\n",
      "i'm breaking free from myself\n",
      "i'm breaking free\n",
      "(i'm breaking free)\n",
      "i'm breaking free\n",
      "\n",
      "[chorus]\n",
      "we're all just burning up\n",
      "we're all just burning up\n",
      "\n",
      "[chorus]\n",
      "we're all just burning up\n",
      "we're all just burning up\n"
     ]
    }
   ],
   "source": [
    "lyrics_results = gpt2.generate(sess,\n",
    "                            prefix=\"<|startoftext|>\",\n",
    "                            truncate=\"<|endoftext|>\",\n",
    "                            nsamples=5,\n",
    "                            temperature=.85, # higher temperature the model gives more random text generations (default(0.7))\n",
    "                            top_p=0.9, # cumulative probability of guesses\n",
    "                            top_k=0, # top k guesses (default(0); 0 ~= disabled)\n",
    "                            length=180, # number of tokens to generate (e.g. max: default(1023))\n",
    "                            return_as_list=True,\n",
    "                            include_prefix=True)\n",
    "\n",
    "for i, lyric in enumerate(lyrics_results):\n",
    "  print('-'*20 + f'Lyric {i}:' + '-'*20 + '\\n')\n",
    "  print(lyric)"
   ]
  },
  {
   "cell_type": "markdown",
   "metadata": {},
   "source": [
    "#### Evaluate lyrics generated using bleu"
   ]
  },
  {
   "cell_type": "markdown",
   "metadata": {},
   "source": [
    "Replacing the newline character with spaces for both the reference lyrics and the generated lyrics, so words can be tokenized properly before being compared using bleu."
   ]
  },
  {
   "cell_type": "code",
   "execution_count": 48,
   "metadata": {},
   "outputs": [],
   "source": [
    "rock_15k_lyrics = pd.read_csv('Data/rock_15k_lyrics_only.csv')\n",
    "rock_15k_lyrics = rock_15k_lyrics['cleaned_lyrics'].apply(lambda lyric: lyric.replace('\\n', ' '))\n",
    "rock_15k_lyrics_list = rock_15k_lyrics.to_list()"
   ]
  },
  {
   "cell_type": "code",
   "execution_count": 72,
   "metadata": {},
   "outputs": [
    {
     "data": {
      "text/plain": [
       "\"[verse] high my blood, heavy like hot rain i'm drown in you colors mixing on a hot day, hot day  [chorus] in the streets without the street lights and with no power lines i am electric, i'm electrical i finally found the rest of me  [chorus] my dance hall is all bodies now and they're burning sugar sweet, so sweet and my old world is on fire now as i move into the heat, the heat  [verse] high my blood, fresh fish and sticky plantains i am bound to you by the mystery of my own name  [chorus] my dance hall is all bodies now and that burning sugars sweet, so sweet and my old world is on fire now as i move into the heat as i move into the heat, the heat  [chorus] (in the streets without the street lights and no power lines i am electric, i am electric)  in the streets without the street lights and no power lines i am electric, electric  [verse] in the streets that are my insides my father never lost his mind how come i never call you now? why do i never call you now? bottom of the ocean   \""
      ]
     },
     "execution_count": 72,
     "metadata": {},
     "output_type": "execute_result"
    }
   ],
   "source": [
    "rock_15k_lyrics_list[0]"
   ]
  },
  {
   "cell_type": "code",
   "execution_count": 242,
   "metadata": {},
   "outputs": [
    {
     "data": {
      "text/plain": [
       "[\" [verse] tell me where you've been take a picture, say it to my face and i'll send it back a hundred times yeah, i'm a liar but i still got that yeah, i'm a let down so don't say a word  [chorus] i'll wait, i'll wait i'll hold you down just like a run-on  [verse] i'm a playboy on a dirty track tied up in your slums i'm a big boss with a bad reputation i'll go anywhere but there well i'm a drop top in the middle of the ocean i'm a real pimp with a bad deal i'll go anywhere but there  [chorus] i'll wait, i'll wait i'll hold you down just like a run-on  [verse]\",\n",
       " \" [verse] i'm a samurai on a mission to save the world from itself i'm a ninja on a mission to save the world from itself i'm a ninja, i'm a ninja  [chorus] i'm a ninja, i'm a ninja  [chorus] i'll strike once, i'll strike twice i'll break twice, i'll break once more i'll strike once, i'll strike twice i'll break twice, i'll break twice more  [verse] i'm a ninja on a mission to save the world from itself i'm a ninja, i'm a ninja  [chorus] i'm a ninja, i'm a ninja  [chorus] i'll strike once, i'll strike twice i'll break twice, i'll break once more i'll strike\",\n",
       " ' [verse] you know i’ve known you for a long time you’re the closest thing to home for me and all my regrets are you’s company when i think about the way i miss you most  [chorus] so when i think about you now i always think about you back and when i think about you now i know i’ll be here forever  [verse] you’re the closest thing to home for me and all my regrets are you’s company when i think about the way i miss you most  [chorus] so when i think about you now i always think about you back and when i think about you now i know i’ll be here forever  [verse] you’re the closest thing to home for me and all my regrets are you’s company when',\n",
       " \" [verse] i can't say i'm sorry or care what you think i know that you could be the one that will leave you could be the one that will leave you could be the one that will leave you could be the one that will leave  [chorus] i know that you will find a way i know that you will find a way i know that you will find a way  [verse] and i know that you will find a way and i know that you will find a way and i know that you will find a way and i know that you will find a way and i know that you will find a way and i know that you will find a way  [chorus] i know that you will find a way i know that you will find a way i know that you will find a way  [verse] and i know that you\",\n",
       " \" [verse] i don't wanna let go 'cause tonight i'm on my own but i'm not a stranger to change it's never easy to see the dark but i've never been one to give in  [chorus] i don't wanna go back and face the end i don't wanna know what's gone 'cause i know it's wrong  [chorus] when i feel like i'm weightless i feel my soul begin to quench when i feel like i'm i'm weightless i feel my soul begin to quench  [verse] i don't wanna let go 'cause tonight i'm on my own but i'm not a stranger to change it's never easy to see the dark but i've never been one to give in  [chorus] i don't wanna go\"]"
      ]
     },
     "execution_count": 242,
     "metadata": {},
     "output_type": "execute_result"
    }
   ],
   "source": [
    "generated_lyrics = [lyric.replace('<|startoftext|>', '').replace('\\n', ' ') for lyric in lyrics_results]\n",
    "generated_lyrics"
   ]
  },
  {
   "cell_type": "code",
   "execution_count": 254,
   "metadata": {},
   "outputs": [
    {
     "name": "stderr",
     "output_type": "stream",
     "text": [
      "100%|██████████| 100/100 [01:11<00:00,  1.41it/s]\n"
     ]
    },
    {
     "name": "stdout",
     "output_type": "stream",
     "text": [
      "Lyric0\n",
      "avg_bleu_score: 0.0704217190043469\n",
      "max_bleu_score: 0.07074701880140805\n"
     ]
    },
    {
     "name": "stderr",
     "output_type": "stream",
     "text": [
      "100%|██████████| 100/100 [00:27<00:00,  3.60it/s]\n"
     ]
    },
    {
     "name": "stdout",
     "output_type": "stream",
     "text": [
      "Lyric1\n",
      "avg_bleu_score: 0.06969752359968084\n",
      "max_bleu_score: 0.06985732794465223\n"
     ]
    },
    {
     "name": "stderr",
     "output_type": "stream",
     "text": [
      "100%|██████████| 100/100 [00:47<00:00,  2.10it/s]\n"
     ]
    },
    {
     "name": "stdout",
     "output_type": "stream",
     "text": [
      "Lyric2\n",
      "avg_bleu_score: 0.06912513284879583\n",
      "max_bleu_score: 0.06931380940735446\n"
     ]
    },
    {
     "name": "stderr",
     "output_type": "stream",
     "text": [
      "100%|██████████| 100/100 [00:29<00:00,  3.43it/s]\n"
     ]
    },
    {
     "name": "stdout",
     "output_type": "stream",
     "text": [
      "Lyric3\n",
      "avg_bleu_score: 0.06866981994072772\n",
      "max_bleu_score: 0.06868493629534578\n"
     ]
    },
    {
     "name": "stderr",
     "output_type": "stream",
     "text": [
      "100%|██████████| 100/100 [00:52<00:00,  1.89it/s]"
     ]
    },
    {
     "name": "stdout",
     "output_type": "stream",
     "text": [
      "Lyric4\n",
      "avg_bleu_score: 0.06957827692305227\n",
      "max_bleu_score: 0.06981353000387662\n"
     ]
    },
    {
     "name": "stderr",
     "output_type": "stream",
     "text": [
      "\n"
     ]
    }
   ],
   "source": [
    "test_size = 1000\n",
    "smoothing = SmoothingFunction().method5\n",
    "\n",
    "for i, gen_lyric in enumerate(generated_lyrics):\n",
    "\n",
    "    avg_bleu = min_bleu = max_bleu = 0\n",
    "\n",
    "    for _ in tqdm(range(test_size)):\n",
    "        sample_song = random.choice(rock_15k_lyrics_list)\n",
    "        sample_bleu = sentence_bleu(sample_song, gen_lyric, smoothing_function=smoothing)\n",
    "        avg_bleu += sample_bleu\n",
    "        max_bleu = max(max_bleu, sample_bleu)\n",
    "    print(f'Lyric{i}')\n",
    "    print(f'avg_bleu_score: {avg_bleu/test_size}')\n",
    "    print(f'max_bleu_score: {max_bleu}')"
   ]
  },
  {
   "cell_type": "code",
   "execution_count": null,
   "metadata": {},
   "outputs": [],
   "source": []
  }
 ],
 "metadata": {
  "interpreter": {
   "hash": "d76e4664c33a11e40f25fff09cff43d7ba989e17a7602e4df3d22dcb6e2efdae"
  },
  "kernelspec": {
   "display_name": "MADS",
   "language": "python",
   "name": "mads"
  },
  "language_info": {
   "codemirror_mode": {
    "name": "ipython",
    "version": 3
   },
   "file_extension": ".py",
   "mimetype": "text/x-python",
   "name": "python",
   "nbconvert_exporter": "python",
   "pygments_lexer": "ipython3",
   "version": "3.8.8"
  },
  "orig_nbformat": 4
 },
 "nbformat": 4,
 "nbformat_minor": 2
}
